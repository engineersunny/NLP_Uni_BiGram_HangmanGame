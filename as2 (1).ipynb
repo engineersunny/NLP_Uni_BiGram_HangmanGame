{
 "cells": [
  {
   "cell_type": "markdown",
   "metadata": {
    "id": "0roCWzFKFyoK"
   },
   "source": [
    "# Assignment 2: Language Modelling in Hangman"
   ]
  },
  {
   "cell_type": "markdown",
   "metadata": {
    "collapsed": true,
    "id": "fk1ukaf2FyoO"
   },
   "source": [
    "Student Name: Youngsun Kim\n",
    "\n",
    "Student ID: 1022880"
   ]
  },
  {
   "cell_type": "markdown",
   "metadata": {
    "id": "KPpqHF_9FyoP"
   },
   "source": [
    "## General info"
   ]
  },
  {
   "cell_type": "markdown",
   "metadata": {
    "id": "BhlUpQqNFyoQ"
   },
   "source": [
    "<b>Due date</b>: Tuesday, 6 April 2021 5pm\n",
    "\n",
    "<b>Submission method</b>: Canvas submission\n",
    "\n",
    "<b>Submission materials</b>: completed copy of this iPython notebook\n",
    "\n",
    "<b>Late submissions</b>: -10% per day (both week and weekend days counted)\n",
    "\n",
    "<b>Marks</b>: 8% of mark for class (with 7% on correctness + 1% on quality and efficiency of your code)\n",
    "\n",
    "<b>Materials</b>: See [Using Jupyter Notebook and Python page](https://canvas.lms.unimelb.edu.au/courses/121115/pages/using-jupyter-notebook-and-python?module_item_id=2681264) on Canvas (under Modules>Resources) for information on the basic setup required for this class, including an iPython notebook viewer and the python packages NLTK, Numpy, Scipy, Matplotlib, Scikit-Learn, and Gensim. We recommend installing all the data for NLTK, since you will need various parts of it to complete this assignment. You can also use any Python built-in packages, but do not use any other 3rd party packages (the packages listed above are all fine to use); if your iPython notebook doesn't run on the marker's machine, you will lose marks. <b> You should use Python 3</b>.  \n",
    "\n",
    "To familiarize yourself with NLTK, here is a free online book:  Steven Bird, Ewan Klein, and Edward Loper (2009). <a href=http://nltk.org/book>Natural Language Processing with Python</a>. O'Reilly Media Inc. You may also consult the <a href=https://www.nltk.org/api/nltk.html>NLTK API</a>.\n",
    "\n",
    "<b>Evaluation</b>: Your iPython notebook should run end-to-end without any errors in a reasonable amount of time, and you must follow all instructions provided below, including specific implementation requirements and instructions for what needs to be printed (please avoid printing output we don't ask for). You should edit the sections below where requested, but leave the rest of the code as is. You should leave the output from running your code in the iPython notebook you submit, to assist with marking. The amount each question is worth is explicitly given. \n",
    "\n",
    "You will be marked not only on the correctness of your methods, but also the quality and efficency of your code: in particular, you should be careful to use Python built-in functions and operators when appropriate and pick descriptive variable names that adhere to <a href=\"https://www.python.org/dev/peps/pep-0008/\">Python style requirements</a>. If you think it might be unclear what you are doing, you should comment your code to help the marker make sense of it.\n",
    "\n",
    "<b>Updates</b>: Any major changes to the assignment will be announced via Canvas. Minor changes and clarifications will be announced on the discussion board; we recommend you check it regularly.\n",
    "\n",
    "<b>Academic misconduct</b>: For most people, collaboration will form a natural part of the undertaking of this homework, and we encourge you to discuss it in general terms with other students. However, this ultimately is still an individual task, and so reuse of code or other instances of clear influence will be considered cheating. We will be checking submissions for originality and will invoke the University’s <a href=\"http://academichonesty.unimelb.edu.au/policy.html\">Academic Misconduct policy</a> where inappropriate levels of collusion or plagiarism are deemed to have taken place."
   ]
  },
  {
   "cell_type": "markdown",
   "metadata": {
    "id": "1gl1-Ud9Fyog"
   },
   "source": [
    "# Overview\n",
    "\n",
    "In this homework, you'll be creating an 'artificial intelligence' player for the classic Hangman word guessing game. You will need to implement several different automatic strategies based on character-level n-gram language models. Your objective is to create an automatic player which makes the fewest mistakes."
   ]
  },
  {
   "cell_type": "markdown",
   "metadata": {
    "id": "ZR1-XDyuFyoh"
   },
   "source": [
    "# The Hangman Game (7 marks)"
   ]
  },
  {
   "cell_type": "markdown",
   "metadata": {
    "id": "ipmH8W0yFyoh"
   },
   "source": [
    "**Instructions**: The <a href=\"https://en.wikipedia.org/wiki/Hangman_(game)\">Hangman game</a> is a simple game whereby one person thinks of a word, which they keep secret from their opponent, who tries to guess the word one character at a time. The game ends when the opponent makes more than a fixed number of incorrect guesses, or they figure out the secret word before then (in which case they *win*). \n",
    "\n",
    "Here's a simple version of the game. **No implementation is needed.**"
   ]
  },
  {
   "cell_type": "code",
   "execution_count": 1,
   "metadata": {
    "id": "g_DO7C2rFyoi"
   },
   "outputs": [],
   "source": [
    "def hangman(secret_word, guesser, max_mistakes=8, verbose=True, **guesser_args):\n",
    "    \"\"\"\n",
    "        This function plays the hangman game with the provided guesser and returns the number of incorrect guesses. \n",
    "        \n",
    "        secret_word: a string of lower-case alphabetic characters, i.e., the answer to the game\n",
    "        guesser: a function which guesses the next character at each stage in the game\n",
    "            The function takes a:\n",
    "                mask: what is known of the word, as a string with _ denoting an unknown character\n",
    "                guessed: the set of characters which already been guessed in the game\n",
    "                guesser_args: additional (optional) keyword arguments, i.e., name=value\n",
    "        max_mistakes: limit on length of game, in terms of number of allowed mistakes\n",
    "        verbose: silent or verbose diagnostic prints\n",
    "        guesser_args: keyword arguments to pass directly to the guesser function\n",
    "    \"\"\"\n",
    "    secret_word = secret_word.lower()\n",
    "    mask = ['_'] * len(secret_word)\n",
    "    guessed = set()\n",
    "    if verbose:\n",
    "        print(\"Starting hangman game. Target is\", ' '.join(mask), 'length', len(secret_word))\n",
    "    \n",
    "    mistakes = 0\n",
    "    while mistakes < max_mistakes:\n",
    "        if verbose:\n",
    "            print(\"You have\", (max_mistakes-mistakes), \"attempts remaining.\")\n",
    "        guess = guesser(mask, guessed, **guesser_args)\n",
    "\n",
    "        if verbose:\n",
    "            print('Guess is', guess)\n",
    "        if guess in guessed:\n",
    "            if verbose:\n",
    "                print('Already guessed this before.')\n",
    "            mistakes += 1\n",
    "        else:\n",
    "            guessed.add(guess)\n",
    "            if guess in secret_word and len(guess) == 1:\n",
    "                for i, c in enumerate(secret_word):\n",
    "                    if c == guess:\n",
    "                        mask[i] = c\n",
    "                if verbose:\n",
    "                    print('Good guess:', ' '.join(mask))\n",
    "            else:\n",
    "                if len(guess) != 1:\n",
    "                    print('Please guess with only 1 character.')\n",
    "                if verbose:\n",
    "                    print('Sorry, try again.')\n",
    "                mistakes += 1\n",
    "                \n",
    "        if '_' not in mask:\n",
    "            if verbose:\n",
    "                print('Congratulations, you won.')\n",
    "            return mistakes\n",
    "        \n",
    "    if verbose:\n",
    "        print('Out of guesses. The word was', secret_word)    \n",
    "    return mistakes"
   ]
  },
  {
   "cell_type": "markdown",
   "metadata": {
    "id": "u5qHc0qqFyoj"
   },
   "source": [
    "Here is a human guesser allowing interactive play."
   ]
  },
  {
   "cell_type": "code",
   "execution_count": 2,
   "metadata": {
    "id": "yw6yjl0aFyok"
   },
   "outputs": [],
   "source": [
    "def human(mask, guessed, **kwargs):\n",
    "    \"\"\"\n",
    "    This is a simple function for manual play.\n",
    "    \"\"\"\n",
    "    print('\\nEnter your guess:')\n",
    "    return input().lower().strip()"
   ]
  },
  {
   "cell_type": "markdown",
   "metadata": {
    "id": "vraZiebkFyok"
   },
   "source": [
    "If you want to play hangman interactively, please set `interactive` to `True`. When submitting your solution, set to `False` so we can automatically run the whole notebook using `Run All`."
   ]
  },
  {
   "cell_type": "code",
   "execution_count": 3,
   "metadata": {
    "id": "8Ae8HKrWFyol"
   },
   "outputs": [],
   "source": [
    "interactive = False"
   ]
  },
  {
   "cell_type": "markdown",
   "metadata": {
    "id": "xK01bIQ3Fyol"
   },
   "source": [
    "<b>For your testing:</b>\n",
    "\n",
    "You can play the game interactively using the following command:"
   ]
  },
  {
   "cell_type": "code",
   "execution_count": 5,
   "metadata": {
    "id": "fwymoFX2Fyol"
   },
   "outputs": [],
   "source": [
    "if interactive:\n",
    "    hangman('whatever', human, 8, True)"
   ]
  },
  {
   "cell_type": "markdown",
   "metadata": {
    "collapsed": true,
    "id": "3rEsrFyQFyom"
   },
   "source": [
    "### Question 1 (1.0 mark)\n",
    "\n",
    "**Instructions**: We will use the words in NLTK's Brown corpus for training an artificial intelligence guessing algorithm, and for evaluating the quality of the algorithm.\n",
    "\n",
    "Your first task is to compute the number of **unique word types** occurring in the Brown corpus, using `nltk.corpus.brown` and the `words` method, and select only words that are **entirely comprised of alphabetic characters**. You should also **lowercase the words**. Finally, randomly shuffle (`numpy.random.shuffle`) this collection of word types, and split them into disjoint training and testing sets. The test set should contain 1000 word types, and the rest should be in the  training set. Note that we are intentionally making the hangman game hard, as the AI will need to cope with test words that it has not seen before, hence it will need to learn generalisable patterns of characters to make reasonable predictions.\n",
    "\n",
    "**Task**: Collect all unique word types from the Brown corpus, and produce `training_set` and `test_set`, 2 lists that contain 2 disjointed sets of words. Both `training_set` and `test_set` should be a python `list` (as initialised in the code). `test_set` must contain exactly 1000 word types.\n",
    "\n",
    "**Check**: Use the assertion statements in <b>\"For your testing\"</b> below for the expected output."
   ]
  },
  {
   "cell_type": "code",
   "execution_count": 6,
   "metadata": {
    "colab": {
     "base_uri": "https://localhost:8080/"
    },
    "id": "VE0CNoSSFyon",
    "outputId": "a8b192a5-5a1c-4ee5-f164-c7c4be57fc87"
   },
   "outputs": [
    {
     "name": "stderr",
     "output_type": "stream",
     "text": [
      "[nltk_data] Downloading package brown to\n",
      "[nltk_data]     C:\\Users\\Young\\AppData\\Roaming\\nltk_data...\n",
      "[nltk_data]   Package brown is already up-to-date!\n"
     ]
    },
    {
     "name": "stdout",
     "output_type": "stream",
     "text": [
      "Number of word types in test = 1000\n",
      "Number of word types in train = 39234\n"
     ]
    }
   ],
   "source": [
    "from nltk.corpus import brown\n",
    "import numpy as np\n",
    "\n",
    "np.random.seed(1)\n",
    "\n",
    "# training_set stores the rest word types for training\n",
    "training_set = []\n",
    "# test_set stores 1000 word types for testing\n",
    "test_set = []\n",
    "\n",
    "\n",
    "###\n",
    "# Your answer BEGINS HERE\n",
    "###\n",
    "import nltk\n",
    "nltk.download('brown')\n",
    "words=brown.words()\n",
    "clean_words = list(filter(lambda x: x.isalpha(), words))\n",
    "clean_words_lower = [t.lower() for t in clean_words]\n",
    "unique_clean_word=np.unique(clean_words_lower)\n",
    "np.random.shuffle(unique_clean_word)\n",
    "training_set, test_set = unique_clean_word[1000:], unique_clean_word[:1000]\n",
    "\n",
    "###\n",
    "# Your answer ENDS HERE\n",
    "###\n",
    "\n",
    "print(\"Number of word types in test =\", len(test_set))\n",
    "print(\"Number of word types in train =\", len(training_set))\n"
   ]
  },
  {
   "cell_type": "markdown",
   "metadata": {
    "id": "2e1OaywUFyon"
   },
   "source": [
    "<b>For your testing:</b>"
   ]
  },
  {
   "cell_type": "code",
   "execution_count": 7,
   "metadata": {
    "id": "1k_iqPleFyoo"
   },
   "outputs": [],
   "source": [
    "assert(len(training_set) > 35000 and len(training_set) < 45000)\n",
    "assert(len(test_set) == 1000)"
   ]
  },
  {
   "cell_type": "markdown",
   "metadata": {
    "id": "IEE7r5kIFyoo"
   },
   "source": [
    "**Play the game**:\n",
    "\n",
    "Let's see how good you are at this game! Try to guess a random word from the test set. It is surprisingly difficult (and addictive)! Don't forget to set `interactive = True`."
   ]
  },
  {
   "cell_type": "code",
   "execution_count": 10,
   "metadata": {
    "id": "8HVqHT0TFyoo"
   },
   "outputs": [],
   "source": [
    "#play hangman using random words from test set\n",
    "#interactive=True\n",
    "if interactive:\n",
    "    hangman(np.random.choice(test_set), human, 8, True)"
   ]
  },
  {
   "cell_type": "markdown",
   "metadata": {
    "id": "92q8aRy3Fyoo"
   },
   "source": [
    "2### Question 2 (1.0 mark)\n",
    "\n",
    "**Instructions**: To set a baseline, your first AI attempt will be a trivial **random method**. For this you should implement a guessing method, similar to the `human` method above, i.e., using the same input arguments and returning a character. Your method should randomly choose a character from the range `a ... z` after excluding the characters that have already been guessed in the current game (all subsequent AI approaches should also exclude previous guesses).\n",
    "\n",
    "To help you measure the performance of this (and later) guesser, a `test_guesser` method that takes a guesser and measures the average number of incorrect guesses made over all the words in the `test_set` is provided to you. \n",
    "\n",
    "**Task**: Complete the `random_guesser` method. It should return a random character from the English alphabets.\n",
    "\n",
    "**Check**: Use the assertion statements in <b>\"For your testing\"</b> below for the expected output."
   ]
  },
  {
   "cell_type": "code",
   "execution_count": 11,
   "metadata": {
    "id": "5v-DF6ieFyop"
   },
   "outputs": [],
   "source": [
    "def test_guesser(guesser, test=test_set):\n",
    "    \"\"\"\n",
    "        This function takes a guesser and measures the average number of incorrect guesses made over all the words in the test_set. \n",
    "    \"\"\"\n",
    "    total = 0\n",
    "    for word in test:\n",
    "        total += hangman(word, guesser, 26, False)\n",
    "    return total / float(len(test))"
   ]
  },
  {
   "cell_type": "code",
   "execution_count": 12,
   "metadata": {
    "colab": {
     "base_uri": "https://localhost:8080/"
    },
    "id": "kSJW85wUFyop",
    "outputId": "747f4a3f-ec57-470c-ab92-7f8eb19b93d6"
   },
   "outputs": [
    {
     "name": "stdout",
     "output_type": "stream",
     "text": [
      "Guessing word = mighty\n",
      "Number of mistakes made by the random guesser = 19\n",
      "\n",
      "Testing the random guesser using every word in test set\n",
      "Average number of incorrect guesses:  16.648\n"
     ]
    }
   ],
   "source": [
    "def random_guesser(mask, guessed, **kwargs):\n",
    "    ###\n",
    "    # Your answer BEGINS HERE\n",
    "    ###\n",
    "    import string\n",
    "    lower_alphabet = set(list(string.ascii_lowercase))\n",
    "    remain_lower_alphabet = list(lower_alphabet - guessed)\n",
    "    return np.random.choice(remain_lower_alphabet)\n",
    "    ###\n",
    "    # Your answer ENDS HERE\n",
    "    ###\n",
    "random_word=np.random.choice(test_set)\n",
    "print(\"Guessing word =\", random_word)\n",
    "print(\"Number of mistakes made by the random guesser =\", hangman(random_word, random_guesser, 26, False))\n",
    "\n",
    "result = test_guesser(random_guesser)\n",
    "print(\"\\nTesting the random guesser using every word in test set\")\n",
    "print(\"Average number of incorrect guesses: \", result)"
   ]
  },
  {
   "cell_type": "markdown",
   "metadata": {
    "id": "jXm-DK2fFyop"
   },
   "source": [
    "<b>For your testing:</b>"
   ]
  },
  {
   "cell_type": "code",
   "execution_count": 13,
   "metadata": {
    "id": "f2Z81tu9Fyoq"
   },
   "outputs": [],
   "source": [
    "assert(result > 10 and result < 20)"
   ]
  },
  {
   "cell_type": "markdown",
   "metadata": {
    "id": "t2sFXBR7Fyoq"
   },
   "source": [
    "### Question 3 (1.0 mark)\n",
    "\n",
    "**Instructions:** As your first real AI, you should train a **unigram language model** over the training set. This requires you to find the frequencies of characters over all training words. Using this model, you should write a guesser that returns the character with the highest probability. Remember to exclude already guessed characters. \n",
    "\n",
    "**Task**: Collect the frequencies of characters and store them in `unigram_counts` (use the first answer space). Complete the `unigram_guesser` method. Note that it takes `unigram_counts` as an additional argument (use the second answer space).\n",
    "\n",
    "**Check**: Use the assertion statements in <b>\"For your testing\"</b> below for the expected output."
   ]
  },
  {
   "cell_type": "code",
   "execution_count": 14,
   "metadata": {
    "colab": {
     "base_uri": "https://localhost:8080/"
    },
    "id": "-7Mfr2tBFyor",
    "outputId": "ec893279-e396-463d-cd52-a6e3824d7f7a"
   },
   "outputs": [
    {
     "name": "stdout",
     "output_type": "stream",
     "text": [
      "Testing the unigram guesser using every word in test set\n",
      "Average number of incorrect guesses:  10.333\n"
     ]
    }
   ],
   "source": [
    "unigram_counts = None\n",
    "\n",
    "###\n",
    "# Your answer BEGINS HERE\n",
    "###\n",
    "char_count={}\n",
    "for words in training_set:\n",
    "  for keys in words:\n",
    "    if keys in char_count:\n",
    "      char_count[keys]=char_count[keys]+1\n",
    "    else:\n",
    "      char_count[keys]=1\n",
    "unigram_counts=char_count\n",
    "\n",
    "# ###\n",
    "# # Your answer ENDS HERE\n",
    "# ###\n",
    "\n",
    "def unigram_guesser(mask, guessed, unigram_counts=unigram_counts):\n",
    "    ###\n",
    "    # Your answer BEGINS HERE\n",
    "    ###\n",
    "    non_repeated_count = dict((k, unigram_counts[k]) for k in unigram_counts if k not in guessed)\n",
    "    total_count = float(sum(non_repeated_count.values()))\n",
    "    for w in non_repeated_count:\n",
    "          non_repeated_count[w] /= total_count\n",
    "\n",
    "    max_count_char = max(non_repeated_count, key=non_repeated_count.get)\n",
    "    return max_count_char\n",
    "#     ###\n",
    "#     # Your answer ENDS HERE\n",
    "#     ###\n",
    "\n",
    "\n",
    "result = test_guesser(unigram_guesser)\n",
    "print(\"Testing the unigram guesser using every word in test set\")\n",
    "print(\"Average number of incorrect guesses: \", result)"
   ]
  },
  {
   "cell_type": "markdown",
   "metadata": {
    "id": "CSXDE9VtFyor"
   },
   "source": [
    "<b>For your testing:</b>"
   ]
  },
  {
   "cell_type": "code",
   "execution_count": 15,
   "metadata": {
    "id": "vXSgrMlpFyor"
   },
   "outputs": [],
   "source": [
    "assert(result > 5 and result < 15)"
   ]
  },
  {
   "cell_type": "markdown",
   "metadata": {
    "id": "EwqdoGUOFyos"
   },
   "source": [
    "### Question 4 (1.0 mark)\n",
    "\n",
    "**Instructions:** The length of the secret word is an important clue that we might exploit. Different lengths tend to have different distributions over characters, e.g., short words are less likely to have suffixes or prefixes. You should incorporate this idea by conditioning the unigram model on the length of the secret word, i.e.,  having a **different unigram model for each length**. You will need to be a little careful at test time, to be robust to the situation that you encounter a word length that you didn't see in training. In such a case, your method should behave like the previous `unigram_guesser` in Question 3 (i.e., it guesses characters based on unigram frequencies, unconditioned by the word length).\n",
    "\n",
    "**Task**: Collect the frequencies of characters conditioned on the word length and store them in `unigram_counts_by_length` (use the first answer space). Complete the `unigram_length_guesser` method (use the second answer space).\n",
    "\n",
    "**Check**: Use the assertion statements in <b>\"For your testing\"</b> below for the expected output."
   ]
  },
  {
   "cell_type": "code",
   "execution_count": 16,
   "metadata": {
    "colab": {
     "base_uri": "https://localhost:8080/"
    },
    "id": "QytDtfdVFyos",
    "outputId": "4b79720e-4600-49aa-b7b6-1d244a6b34c1",
    "scrolled": false
   },
   "outputs": [
    {
     "name": "stdout",
     "output_type": "stream",
     "text": [
      "Testing the length-conditioned unigram guesser using every word in test set\n",
      "Average number of incorrect guesses:  10.211\n"
     ]
    }
   ],
   "source": [
    "unigram_counts_by_length = None\n",
    "from collections import defaultdict\n",
    "\n",
    "###\n",
    "# Your answer BEGINS HERE\n",
    "###\n",
    "char_count=defaultdict(lambda : defaultdict(lambda : defaultdict(int)))\n",
    "for words in training_set:\n",
    "  for keys in words:\n",
    "    if len(words) in char_count:\n",
    "      if keys in char_count[len(words)]:\n",
    "        char_count[len(words)][keys]=char_count[len(words)][keys]+1\n",
    "      else:\n",
    "        char_count[len(words)][keys]=1\n",
    "    else:\n",
    "      char_count[len(words)][keys]=1\n",
    "\n",
    "\n",
    "unigram_counts_by_length=char_count\n",
    "\n",
    "# ###\n",
    "# # Your answer ENDS HERE\n",
    "# ###\n",
    "\n",
    "def unigram_length_guesser(mask, guessed, unigram_counts_by_length=unigram_counts_by_length, unigram_counts=unigram_counts):\n",
    "    ###\n",
    "    # Your answer BEGINS HERE\n",
    "    ###\n",
    "    if len(mask) in unigram_counts_by_length.keys():\n",
    "      non_repeated_count=dict((k, unigram_counts_by_length[len(mask)][k]) for k in unigram_counts_by_length[len(mask)] if k not in guessed)\n",
    "\n",
    "    else:\n",
    "      non_repeated_count = dict((k, unigram_counts[k]) for k in unigram_counts if k not in guessed)\n",
    "\n",
    "    total_count = float(sum(non_repeated_count.values()))\n",
    "    for w in non_repeated_count:\n",
    "          non_repeated_count[w] /= total_count\n",
    "\n",
    "    \n",
    "\n",
    "    max_count_char = max(non_repeated_count, key=non_repeated_count.get)\n",
    "    return max_count_char\n",
    "\n",
    "\n",
    "\n",
    "    ###\n",
    "    # Your answer ENDS HERE\n",
    "    ###\n",
    "\n",
    "result = test_guesser(unigram_length_guesser)\n",
    "print(\"Testing the length-conditioned unigram guesser using every word in test set\")\n",
    "print(\"Average number of incorrect guesses: \", result)"
   ]
  },
  {
   "cell_type": "markdown",
   "metadata": {
    "id": "9BAQJq8tFyot"
   },
   "source": [
    "<b>For your testing:</b>"
   ]
  },
  {
   "cell_type": "code",
   "execution_count": 17,
   "metadata": {
    "id": "1TVAZAHVFyot"
   },
   "outputs": [],
   "source": [
    "assert(result > 5 and result < 15)"
   ]
  },
  {
   "cell_type": "markdown",
   "metadata": {
    "id": "n4t2_ty0Fyot"
   },
   "source": [
    "### Question 5 (1.0 mark)\n",
    "\n",
    "**Instructions:** Now for the next challenge, you'll build a **bigram language model** over characters. The order of characters is obviously important, yet this wasn't incorporated in any of the above models. Knowing that the word has the sequence `n _ s s` is a pretty strong clue that the missing character might be `e`. Similarly the distribution over characters that start or end a word are highly biased (e.g., toward common prefixes and suffixes, like *un-*, *-ed* and *-ly*).\n",
    "\n",
    "The task here is to develop a bigram language model over characters, and train it over the training words. Remember to be careful when handling the start of each word properly, e.g., by padding with a special starting symbol such as `$`. Do we also need a special ending symbol? That's for you to decide.\n",
    "\n",
    "Your bigram guesser should apply your language model to each blank position in the secret word by using its left context character. For example, in the partial word `e _ c _ b _ _` we know the left context for the first three blanks, but have no known left context for the last blank. In the case for the last blank, you should revert to using a unigram language model (since there's no context for us to use the bigram model). You should sum up the probability distribution (over all alphabets from <i>a</i> to <i>z</i>) for the 4 blanks, and select the alphabet with the highest probability that hasn't been guessed.\n",
    "\n",
    "**Task**: Collect frequency counts that are necessary for building a bigram language model and store them in bigram_counts; feel free to add new objects if needed (use the first answer space). Complete the `bigram_guesser` method (use the second answer space). Note that the method currently only has one additional argument (`bigram_counts`), but you are free to add additional arguments."
   ]
  },
  {
   "cell_type": "code",
   "execution_count": 21,
   "metadata": {
    "colab": {
     "base_uri": "https://localhost:8080/"
    },
    "id": "aPaZJcCVFyot",
    "outputId": "2f14cdf4-b8e2-410b-def6-9cb959aad9b4"
   },
   "outputs": [
    {
     "name": "stdout",
     "output_type": "stream",
     "text": [
      "Testing the bigram guesser using every word in test set\n",
      "Average number of incorrect guesses:  8.877\n"
     ]
    }
   ],
   "source": [
    "bigram_counts = None\n",
    "from collections import defaultdict \n",
    "\n",
    "###\n",
    "# Your answer BEGINS HERE\n",
    "###\n",
    "unigram = defaultdict(int)\n",
    "bigram_counts = defaultdict(lambda: defaultdict(int))\n",
    "        \n",
    "# go through each word in the train\n",
    "for word in training_set:\n",
    "  # check each letter in the train and update the n-gram\n",
    "  for i in range(len(word) - 1):\n",
    "    bigram_counts[word[i]][word[i+1]] += 1\n",
    "\n",
    "  bigram_counts['$'][word[0]]+=1\n",
    "\n",
    "  # fill out unigrams\n",
    "  for letter in set(word):\n",
    "    unigram[letter] += 1\n",
    "    \n",
    "\n",
    "###\n",
    "# Your answer ENDS HERE\n",
    "###\n",
    "    \n",
    "\n",
    "def bigram_guesser(mask, guessed, bigram_counts=bigram_counts,unigram=unigram): # add extra arguments if needed\n",
    "    ###\n",
    "    # Your answer BEGINS HERE\n",
    "    ###\n",
    "    import string\n",
    "    letter_set = list(string.ascii_lowercase)\n",
    "    probabilities = [0] * len(letter_set)\n",
    "\n",
    "    probs = [0] * len(letter_set)\n",
    "    total_count = 0\n",
    "    letter_count = [0] * len(letter_set)\n",
    "    mask=['$']+mask\n",
    "    for i in range(len(mask)-1):\n",
    "      if mask[i] != '_' and mask[i+1] == '_':\n",
    "                anchor_letter = mask[i]\n",
    "                # calculate occurences of \"anchor_letter blank\" and each letter not guessed yet\n",
    "                for j, letter in enumerate(letter_set):\n",
    "                    if bigram_counts[anchor_letter][letter] > 0 and letter not in guessed:\n",
    "                        total_count += bigram_counts[anchor_letter][letter]\n",
    "                        letter_count[j] += bigram_counts[anchor_letter][letter]\n",
    "    if total_count > 0:\n",
    "            for i in range(len(letter_set)):\n",
    "                probs[i] = letter_count[i] / total_count\n",
    "\n",
    "\n",
    "    for i, p in enumerate(probabilities):\n",
    "            probabilities[i] = p + probs[i]\n",
    "            \n",
    "    probs_uni = [0] * len(letter_set)\n",
    "    total_count = 0\n",
    "    letter_count = [0] * len(letter_set)\n",
    "\n",
    "    # traverse the mask and find blank spaces\n",
    "    for i in range(len(mask)):\n",
    "      if mask[i] == '_':\n",
    "                                \n",
    "                # calculate occurences of pattern and each letter not guessed yet\n",
    "                for j, letter in enumerate(letter_set):\n",
    "                    if unigram[letter] > 0 and letter not in guessed:\n",
    "                        total_count += unigram[letter]\n",
    "                        letter_count[j] += unigram[letter]\n",
    "\n",
    "    if total_count > 0:\n",
    "      for i in range(len(letter_set)):\n",
    "        probs_uni[i] = letter_count[i] / total_count\n",
    "    for i, p in enumerate(probabilities):\n",
    "      probabilities[i] = p + probs_uni[i] \n",
    "\n",
    "    # adjust probabilities so they sum to one\n",
    "    final_probs = defaultdict(int)\n",
    "    if sum(probabilities) > 0:\n",
    "      for i in range(len(probabilities)):\n",
    "        final_probs[letter_set[i]] = float(probabilities[i] / sum(probabilities))\n",
    "\n",
    "\n",
    "    max_count_char = max(final_probs, key=final_probs.get)\n",
    "    \n",
    "\n",
    "    return max_count_char\n",
    "\n",
    "\n",
    "\n",
    "    \n",
    "\n",
    "    ###\n",
    "    # Your answer ENDS HERE\n",
    "    ###\n",
    "\n",
    "\n",
    "result = test_guesser(bigram_guesser)\n",
    "print(\"Testing the bigram guesser using every word in test set\")\n",
    "print(\"Average number of incorrect guesses: \", result)"
   ]
  },
  {
   "cell_type": "markdown",
   "metadata": {
    "id": "mc4Jr2K1Fyou"
   },
   "source": [
    "### Question 6 (1.5 mark)\n",
    "\n",
    "**Instructions:** You should try to develop a more effective AI for hangman. Feel free to engage your creativity here! Possibilities include better conditioning on the length of the word, fancier smoothing methods, ngram models and bidirectional models (lecture 8). Have fun!\n",
    "\n",
    "You will be marked based on the performance of your AI model, using a pre-made training and test set (created using a secret seed). Let x be the average number of mistakes in the test set, you will score:\n",
    "* 1.5 mark if x < 8.0\n",
    "* 1.0 mark if 8.0 <= x < 8.5\n",
    "* 0.5 mark if 8.5 <= x < 8.8\n",
    "* 0.0 mark if x >= 8.8\n",
    "\n",
    "Note: when testing your AI model's performance, you may want to consider trying different training/test splits (using different seeds) to have a better understanding of its performance, as there will be some variance to its performance depending on the training/test split.\n",
    "\n",
    "**Task** Complete the `my_amazing_ai_guesser` method, which implements a better language model for hangman."
   ]
  },
  {
   "cell_type": "code",
   "execution_count": 23,
   "metadata": {
    "colab": {
     "base_uri": "https://localhost:8080/"
    },
    "id": "GmdUDNqjFyou",
    "outputId": "c7f4358d-f4aa-44a8-d68e-647dad4b2e90"
   },
   "outputs": [
    {
     "name": "stdout",
     "output_type": "stream",
     "text": [
      "Testing my amazing AI guesser using every word in test set\n",
      "Average number of incorrect guesses:  5.935\n"
     ]
    }
   ],
   "source": [
    "###\n",
    "# Your answer BEGINS HERE\n",
    "###\n",
    "unigram = defaultdict(lambda: defaultdict(int))\n",
    "bi_gram = defaultdict(lambda: defaultdict(lambda: defaultdict(int)))\n",
    "tri_gram = defaultdict(lambda: defaultdict(lambda: defaultdict(int)))\n",
    "four_gram = defaultdict(lambda:defaultdict(lambda: defaultdict(lambda: defaultdict(int))))\n",
    "five_gram = defaultdict(lambda: defaultdict(lambda:defaultdict(lambda: defaultdict(lambda: defaultdict(int)))))\n",
    "\n",
    "# foreach word in the training set\n",
    "for word in training_set:\n",
    "  # check each letter in the tranning set and update the n-gram\n",
    "  for i in range(len(word) - 4):\n",
    "    bi_gram[len(word)][word[i]][word[i+1]] += 1\n",
    "    tri_gram[word[i]][word[i+1]][word[i+2]] += 1\n",
    "    four_gram[word[i]][word[i+1]][word[i+2]][word[i+3]] += 1\n",
    "    five_gram[word[i]][word[i+1]][word[i+2]][word[i+3]][word[i+4]] += 1\n",
    "  i = len(word) - 4\n",
    "  if len(word) == 2:\n",
    "    bi_gram[len(word)][word[0]][word[1]] += 1\n",
    "  elif len(word) == 3:\n",
    "    bi_gram[len(word)][word[0]][word[1]] += 1\n",
    "    bi_gram[len(word)][word[1]][word[2]] += 1\n",
    "    tri_gram[word[0]][word[1]][word[2]] += 1\n",
    "  elif len(word) >= 4:\n",
    "    bi_gram[len(word)][word[i]][word[i+1]] += 1\n",
    "    bi_gram[len(word)][word[i+1]][word[i+2]] += 1\n",
    "    bi_gram[len(word)][word[i+2]][word[i+3]] += 1\n",
    "    tri_gram[word[i]][word[i+1]][word[i+2]] += 1\n",
    "    tri_gram[word[i+1]][word[i+2]][word[i+3]] += 1\n",
    "    four_gram[word[i]][word[i+1]][word[i+2]][word[i+3]] += 1\n",
    "  # unigrams\n",
    "  for letter in set(word):\n",
    "    unigram[len(word)][letter] += 1\n",
    "\n",
    "\n",
    "def my_amazing_ai_guesser(mask, guessed,unigram=unigram,bigram=bi_gram,trigram=tri_gram,fourgram=four_gram,fivegram=five_gram):\n",
    "  import string\n",
    "  letter_set = list(string.ascii_lowercase)\n",
    "  probabilities = [0] * len(letter_set)\n",
    "\n",
    "  # vector of probabilities for each letter in five gram\n",
    "  probs = [0] * len(letter_set)\n",
    "  total_count = 0\n",
    "  letter_count = [0] * len(letter_set)\n",
    "  word=mask\n",
    "  # traverse the mask and find patterns that have five consecutive letters where one of them is blank\n",
    "  for i in range(len(word) - 4):\n",
    "    # case 1: \"letter letter letter letter blank\"\n",
    "    if word[i] != '_' and word[i+1] != '_' and word[i+2] != '_' and word[i+3] != '_' and word[i+4] == '_':\n",
    "      anchor_letter_1 = word[i]\n",
    "      anchor_letter_2 = word[i+1]\n",
    "      anchor_letter_3 = word[i+2]\n",
    "      anchor_letter_4 = word[i+3]\n",
    "    # calculate occurences of \"anchor_letter_1 anchor_letter_2 anchor_letter_3 anchor_letter_4 blank\" and for each letter not guessed yet\n",
    "      for j, letter in enumerate(letter_set):\n",
    "        if fivegram[anchor_letter_1][anchor_letter_2][anchor_letter_3][anchor_letter_4][letter] > 0 and letter not in guessed:\n",
    "          total_count += fivegram[anchor_letter_1][anchor_letter_2][anchor_letter_3][anchor_letter_4][letter]\n",
    "          letter_count[j] += fivegram[anchor_letter_1][anchor_letter_2][anchor_letter_3][anchor_letter_4][letter]\n",
    "  \n",
    "    # case 2: \"letter letter letter blank letter\"\n",
    "    elif word[i] != '_' and word[i+1] != '_' and word[i+2] != '_' and word[i+3] == '_' and word[i+4] != '_':\n",
    "      anchor_letter_1 = word[i]\n",
    "      anchor_letter_2 = word[i+1]\n",
    "      anchor_letter_3 = word[i+2]\n",
    "      anchor_letter_4 = word[i+4]\n",
    "      # calculate occurences of \"anchor_letter_1 anchor_letter_2 anchor_letter_3 blank anchor_letter_4 \" and for each letter not guessed yet\n",
    "      for j, letter in enumerate(letter_set):\n",
    "        if fivegram[anchor_letter_1][anchor_letter_2][anchor_letter_3][letter][anchor_letter_4] > 0 and letter not in guessed:\n",
    "          total_count += fivegram[anchor_letter_1][anchor_letter_2][anchor_letter_3][letter][anchor_letter_4]\n",
    "          letter_count[j] += fivegram[anchor_letter_1][anchor_letter_2][anchor_letter_3][letter][anchor_letter_4]\n",
    "               \n",
    "      # case 3: letter letter blank letter letter\n",
    "    elif word[i] != '_' and word[i+1] != '_' and word[i+2] == '_' and word[i+3] != '_' and word[i+4] != '_':\n",
    "      anchor_letter_1 = word[i]\n",
    "      anchor_letter_2 = word[i+1]\n",
    "      anchor_letter_3 = word[i+3]\n",
    "      anchor_letter_4 = word[i+4]\n",
    "      # calculate occurences of \"anchor_letter_1 anchor_letter_2 blank anchor_letter_3 anchor_letter_4\" and for each letter not guessed yet\n",
    "      for j, letter in enumerate(letter_set):\n",
    "        if fivegram[anchor_letter_1][anchor_letter_2][letter][anchor_letter_3][anchor_letter_4] > 0 and letter not in guessed:\n",
    "          total_count += fivegram[anchor_letter_1][anchor_letter_2][letter][anchor_letter_3][anchor_letter_4]\n",
    "          letter_count[j] += fivegram[anchor_letter_1][anchor_letter_2][letter][anchor_letter_3][anchor_letter_4]\n",
    "               \n",
    "    # case 4: letter blank letter letter letter\n",
    "    elif word[i] != '_' and word[i+1] == '_' and word[i+2] != '_' and word[i+3] != '_' and word[i+4] != '_':\n",
    "      anchor_letter_1 = word[i]\n",
    "      anchor_letter_2 = word[i+2]\n",
    "      anchor_letter_3 = word[i+3]\n",
    "      anchor_letter_4 = word[i+4]\n",
    "    # calculate occurences of \"anchor_letter_1 blank  anchor_letter_2 anchor_letter_3 anchor_letter_4\" and for each letter not guessed yet\n",
    "      for j, letter in enumerate(letter_set):\n",
    "        if fivegram[anchor_letter_1][letter][anchor_letter_2][anchor_letter_3][anchor_letter_4] > 0 and letter not in guessed:\n",
    "          total_count += fivegram[anchor_letter_1][letter][anchor_letter_2][anchor_letter_3][anchor_letter_4]\n",
    "          letter_count[j] += fivegram[anchor_letter_1][letter][anchor_letter_2][anchor_letter_3][anchor_letter_4]\n",
    "        \n",
    "    # case 5: blank letter letter letter letter\n",
    "    elif word[i] == '_' and word[i+1] != '_' and word[i+2] != '_' and word[i+3] != '_' and word[i+4] != '_':\n",
    "      anchor_letter_1 = word[i+1]\n",
    "      anchor_letter_2 = word[i+2]\n",
    "      anchor_letter_3 = word[i+3]\n",
    "      anchor_letter_4 = word[i+4]\n",
    "      # calculate occurences of \"blank anchor_letter_1 anchor_letter_2 anchor_letter_3 anchor_letter_4 \" and for each letter not guessed yet\n",
    "      for j, letter in enumerate(letter_set):\n",
    "        if fivegram[letter][anchor_letter_1][anchor_letter_2][anchor_letter_3][anchor_letter_4] > 0 and letter not in guessed:\n",
    "          total_count += fivegram[letter][anchor_letter_1][anchor_letter_2][anchor_letter_3][anchor_letter_4]\n",
    "          letter_count[j] += fivegram[letter][anchor_letter_1][anchor_letter_2][anchor_letter_3][anchor_letter_4]\n",
    "        \n",
    "  # calculate the probabilities of each letter \n",
    "  if total_count > 0:\n",
    "    for i in range(len(letter_set)):\n",
    "      probs[i] = letter_count[i] / total_count\n",
    "  for i, p in enumerate(probabilities):\n",
    "    probabilities[i] = p + probs[i] * (0.40)\n",
    "\n",
    "  probs = [0] * len(letter_set)\n",
    "  total_count = 0\n",
    "  letter_count = [0] * len(letter_set)\n",
    "\n",
    "  for i in range(len(word) - 3):\n",
    "    # case 1: \"letter letter letter blank\"\n",
    "    if word[i] != '_' and word[i+1] != '_' and word[i+2] != '_' and word[i+3] == '_':\n",
    "      anchor_letter_1 = word[i]\n",
    "      anchor_letter_2 = word[i+1]\n",
    "      anchor_letter_3 = word[i+2]\n",
    "      # calculate occurences of \"anchor_letter_1 anchor_letter_2 anchor_letter_3 blank\" and for each letter not guessed yet\n",
    "      for j, letter in enumerate(letter_set):\n",
    "        if fourgram[anchor_letter_1][anchor_letter_2][anchor_letter_3][letter] > 0 and letter not in guessed:\n",
    "          total_count += fourgram[anchor_letter_1][anchor_letter_2][anchor_letter_3][letter]\n",
    "          letter_count[j] += fourgram[anchor_letter_1][anchor_letter_2][anchor_letter_3][letter]\n",
    "      # case 2: \"letter letter blank letter\"\n",
    "    elif word[i] != '_' and word[i+1] != '_' and word[i+2] == '_' and word[i+3] != '_':\n",
    "      anchor_letter_1 = word[i]\n",
    "      anchor_letter_2 = word[i+1]\n",
    "      anchor_letter_3 = word[i+3]\n",
    "                \n",
    "      # calculate occurences of \"anchor_letter_1 anchor_letter_2 blank anchor_letter_3\" and for each letter not guessed yet\n",
    "      for j, letter in enumerate(letter_set):\n",
    "        if fourgram[anchor_letter_1][anchor_letter_2][letter][anchor_letter_3] > 0 and letter not in guessed:\n",
    "          total_count += fourgram[anchor_letter_1][anchor_letter_2][letter][anchor_letter_3]\n",
    "          letter_count[j] += fourgram[anchor_letter_1][anchor_letter_2][letter][anchor_letter_3]\n",
    "\n",
    "    # case 3: letter blank letter letter\n",
    "    elif word[i] != '_' and word[i+1] == '_' and word[i+2] != '_' and word[i+3] != '_':\n",
    "      anchor_letter_1 = word[i]\n",
    "      anchor_letter_2 = word[i+2]\n",
    "      anchor_letter_3 = word[i+3]\n",
    "      # calculate occurences of \"anchor_letter_1 blank anchor_letter_2 anchor_letter_3\" and for each letter not guessed yet\n",
    "      for j, letter in enumerate(letter_set):\n",
    "        if fourgram[anchor_letter_1][letter][anchor_letter_2][anchor_letter_3] > 0 and letter not in guessed:\n",
    "          total_count += fourgram[anchor_letter_1][letter][anchor_letter_2][anchor_letter_3]\n",
    "          letter_count[j] += fourgram[anchor_letter_1][letter][anchor_letter_2][anchor_letter_3]\n",
    "               \n",
    "    # case 4: blank letter letter letter\n",
    "    elif word[i] == '_' and word[i+1] != '_' and word[i+2] != '_' and word[i+3] != '_':\n",
    "      anchor_letter_1 = word[i+1]\n",
    "      anchor_letter_2 = word[i+2]\n",
    "      anchor_letter_3 = word[i+3]\n",
    "      # calculate occurences of \"blank anchor_letter_1 anchor_letter_2 anchor_letter_3\" and for each letter not guessed yet\n",
    "      for j, letter in enumerate(letter_set):\n",
    "        if fourgram[letter][anchor_letter_1][anchor_letter_2][anchor_letter_3] > 0 and letter not in guessed:\n",
    "          total_count += fourgram[letter][anchor_letter_1][anchor_letter_2][anchor_letter_3]\n",
    "          letter_count[j] += fourgram[letter][anchor_letter_1][anchor_letter_2][anchor_letter_3]\n",
    "\n",
    "  # calculate the probabilities of each letter \n",
    "  if total_count > 0:\n",
    "    for i in range(len(letter_set)):\n",
    "      probs[i] = letter_count[i] / total_count\n",
    "\n",
    "  for i, p in enumerate(probabilities):\n",
    "          probabilities[i] = p + probs[i] * (0.25)\n",
    "\n",
    "  probs = [0] * len(letter_set)\n",
    "  total_count = 0\n",
    "  letter_count = [0] * len(letter_set)\n",
    "\n",
    "  for i in range(len(word) - 2):\n",
    "    # case 1: \"letter letter blank\"\n",
    "    if word[i] != '_' and word[i+1] != '_' and word[i+2] == '_':\n",
    "      anchor_letter_1 = word[i]\n",
    "      anchor_letter_2 = word[i+1]\n",
    "      # calculate occurences of \"anchor_letter_1 anchor_letter_2 blank\" and for each letter not guessed yet\n",
    "      for j, letter in enumerate(letter_set):\n",
    "        if trigram[anchor_letter_1][anchor_letter_2][letter] > 0 and letter not in guessed:\n",
    "          total_count += trigram[anchor_letter_1][anchor_letter_2][letter]\n",
    "          letter_count[j] += trigram[anchor_letter_1][anchor_letter_2][letter]\n",
    "    # case 2: \"letter blank letter\"\n",
    "    elif word[i] != '_' and word[i+1] == '_' and word[i+2] != '_':\n",
    "      anchor_letter_1 = word[i]\n",
    "      anchor_letter_2 = word[i+2]\n",
    "                \n",
    "      # calculate occurences of \"anchor_letter_1 blank anchor_letter_2\" and for each letter not guessed yet\n",
    "      for j, letter in enumerate(letter_set):\n",
    "        if trigram[anchor_letter_1][letter][anchor_letter_2] > 0 and letter not in guessed:\n",
    "          total_count += trigram[anchor_letter_1][letter][anchor_letter_2]\n",
    "          letter_count[j] += trigram[anchor_letter_1][letter][anchor_letter_2]\n",
    "               \n",
    "    # case 3: blank letter letter\n",
    "    elif word[i] == '_' and word[i+1] != '_' and word[i+2] != '_':\n",
    "      anchor_letter_1 = word[i+1]\n",
    "      anchor_letter_2 = word[i+2]\n",
    "                \n",
    "      # calculate occurences of \"blank anchor_letter_1 anchor_letter_2\" and for each letter not guessed yet\n",
    "      for j, letter in enumerate(letter_set):\n",
    "        if trigram[letter][anchor_letter_1][anchor_letter_2] > 0 and letter not in guessed:\n",
    "          total_count += trigram[letter][anchor_letter_1][anchor_letter_2]\n",
    "          letter_count[j] += trigram[letter][anchor_letter_1][anchor_letter_2]\n",
    "  # calculate the probabilities of each letter \n",
    "  if total_count > 0:\n",
    "    for i in range(len(letter_set)):\n",
    "      probs[i] = letter_count[i] / total_count\n",
    "\n",
    "  for i, p in enumerate(probabilities):\n",
    "          probabilities[i] = p + probs[i] * (0.20)\n",
    "\n",
    "  probs = [0] * len(letter_set)\n",
    "  total_count = 0\n",
    "  letter_count = [0] * len(letter_set)\n",
    "\n",
    "  for i in range(len(word) - 1):\n",
    "    # case 1: \"letter blank\"\n",
    "    if word[i] != '_' and word[i+1] == '_':\n",
    "      anchor_letter = word[i]\n",
    "    # calculate occurences of \"anchor_letter blank\" and each letter not guessed yet\n",
    "      for j, letter in enumerate(letter_set):\n",
    "        if bigram[len(word)][anchor_letter][letter] > 0 and letter not in guessed:\n",
    "          total_count += bigram[len(word)][anchor_letter][letter]\n",
    "          letter_count[j] += bigram[len(word)][anchor_letter][letter]\n",
    "                            \n",
    "    # case 2: \"blank letter\"\n",
    "    elif word[i] == '_' and word[i+1]!= '_':\n",
    "      anchor_letter = word[i+1]\n",
    "                \n",
    "      # calculate occurences of \"blank anchor_letter\" and each letter not guessed yet\n",
    "      for j, letter in enumerate(letter_set):\n",
    "        if bigram[len(word)][letter][anchor_letter] > 0 and letter not in guessed:\n",
    "          total_count += bigram[len(word)][letter][anchor_letter]\n",
    "          letter_count[j] += bigram[len(word)][letter][anchor_letter]\n",
    "  # calculate the probabilities of each letter \n",
    "  if total_count > 0:\n",
    "    for i in range(len(letter_set)):\n",
    "      probs[i] = letter_count[i] / total_count\n",
    "\n",
    "  for i, p in enumerate(probabilities):\n",
    "          probabilities[i] = p + probs[i] * (0.10)\n",
    "\n",
    "  probs = [0] * len(letter_set)\n",
    "  total_count = 0\n",
    "  letter_count = [0] * len(letter_set)\n",
    "\n",
    "  for i in range(len(word)):\n",
    "    # case 1: \"letter blank\"\n",
    "    if word[i] == '_':\n",
    "      # calculate occurences of pattern and each letter not guessed yet\n",
    "      for j, letter in enumerate(letter_set):\n",
    "        if unigram[len(word)][letter] > 0 and letter not in guessed:\n",
    "          total_count += unigram[len(word)][letter]\n",
    "          letter_count[j] += unigram[len(word)][letter]\n",
    "\n",
    "  # calculate the probabilities of each letter \n",
    "  if total_count > 0:\n",
    "    for i in range(len(letter_set)):\n",
    "      probs[i] = letter_count[i] / total_count\n",
    "\n",
    "  for i, p in enumerate(probabilities):\n",
    "          probabilities[i] = p + probs[i] * (0.10)\n",
    "\n",
    "  # adjust probabilities so they sum to one\n",
    "  final_probs = defaultdict(int)\n",
    "  if sum(probabilities) > 0:\n",
    "    for i in range(len(probabilities)):\n",
    "      final_probs[letter_set[i]] = float(probabilities[i] / sum(probabilities))\n",
    "\n",
    "\n",
    "  max_count_char = max(final_probs, key=final_probs.get)\n",
    "\n",
    "\n",
    "\n",
    "  return max_count_char\n",
    "\n",
    "###\n",
    "# Your answer ENDS HERE\n",
    "###\n",
    "\n",
    "result = test_guesser(my_amazing_ai_guesser)\n",
    "print(\"Testing my amazing AI guesser using every word in test set\")\n",
    "print(\"Average number of incorrect guesses: \", result)"
   ]
  },
  {
   "cell_type": "markdown",
   "metadata": {
    "id": "-a6IxGDqFyou"
   },
   "source": [
    "### Question 7 (0.5 mark)\n",
    "\n",
    "**Instructions:** Explain your approach and discuss your result below. Please keep your explanation to a short paragraph."
   ]
  },
  {
   "cell_type": "markdown",
   "metadata": {
    "id": "YaFVO8ruFyou"
   },
   "source": [
    "##### Your answer BEGINS HERE\n",
    "\n",
    "\n",
    "To determine the best guess, this approach uses n-gram counts of letters. I implemented n-grams from 1 (unigram), 2 (bigram) up to 5 (five-gram). 'Five' is the chosen cutoff because most of the 6 and above letter sequences begin to be just a chain of smaller sequences. \n",
    "\n",
    "For all words of test data, I used a few steps as below.\n",
    " \n",
    "First, all blanks (underscores separated by spaces) are fed to the function to guess the first letter. For example, \"hangman\" is converted to \"_ _ _ _ _ _ _\". Any correctly guessed letter will be blank, and this new string is passed for the next guess. A new string passed from the previous stage find any potential n-grams. For example, a unigram can be anywhere if there is any single blank space. A bigram can be either 'letter-blank' and 'blank-letter' such as '_ h' or 'h _'. Therefore a single blank space can be multiple n-grams. If the current status of the word is \"h a _ g m an\", the blank space is a unigram, bigram (for both \"a \" and \" g\"), trigram (\"h a \", \"a _ g\", \" g m\"), four-gram and five-gram.\n",
    "For each blank, a vector of probabilities for each letter not yet guessed is tabulated by calculating the frequencies of each n-gram, with more weight given to larger n. The letter with the highest probability is taken as a guess word. With our training data, the average number of incorrect guess showed 5.935 which is a fairly good result.\n",
    "\n",
    "\n",
    "\n",
    "##### Your answer ENDS HERE"
   ]
  },
  {
   "cell_type": "code",
   "execution_count": null,
   "metadata": {
    "id": "Pth8DYWoFyov"
   },
   "outputs": [],
   "source": []
  }
 ],
 "metadata": {
  "anaconda-cloud": {},
  "colab": {
   "collapsed_sections": [],
   "name": "as2.ipynb",
   "provenance": []
  },
  "kernelspec": {
   "display_name": "Python 3",
   "language": "python",
   "name": "python3"
  },
  "language_info": {
   "codemirror_mode": {
    "name": "ipython",
    "version": 3
   },
   "file_extension": ".py",
   "mimetype": "text/x-python",
   "name": "python",
   "nbconvert_exporter": "python",
   "pygments_lexer": "ipython3",
   "version": "3.7.4"
  }
 },
 "nbformat": 4,
 "nbformat_minor": 1
}
